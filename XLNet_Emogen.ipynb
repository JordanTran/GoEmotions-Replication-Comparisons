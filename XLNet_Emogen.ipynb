{
  "nbformat": 4,
  "nbformat_minor": 0,
  "metadata": {
    "colab": {
      "name": "XLNet_Emogen.ipynb",
      "provenance": [],
      "machine_shape": "hm"
    },
    "kernelspec": {
      "name": "python3",
      "display_name": "Python 3"
    },
    "language_info": {
      "name": "python"
    },
    "accelerator": "GPU"
  },
  "cells": [
    {
      "cell_type": "code",
      "execution_count": 1,
      "metadata": {
        "colab": {
          "base_uri": "https://localhost:8080/"
        },
        "id": "K7F6QNvB_XgZ",
        "outputId": "9a5df292-250e-4e42-db93-00e994b5a095"
      },
      "outputs": [
        {
          "output_type": "stream",
          "name": "stdout",
          "text": [
            "Python implementation: CPython\n",
            "Python version       : 3.7.12\n",
            "IPython version      : 5.5.0\n",
            "\n",
            "numpy       : 1.19.5\n",
            "pandas      : 1.1.5\n",
            "torch       : 1.10.0+cu111\n",
            "transformers: 4.14.1\n",
            "\n",
            "Requirement already satisfied: sentencepiece in /usr/local/lib/python3.7/dist-packages (0.1.96)\n"
          ]
        }
      ],
      "source": [
        "!pip install -q -U watermark\n",
        "!pip install -qq transformers\n",
        "%reload_ext watermark\n",
        "%watermark -v -p numpy,pandas,torch,transformers\n",
        "!pip install sentencepiece"
      ]
    },
    {
      "cell_type": "code",
      "source": [
        "import sentencepiece\n",
        "import transformers\n",
        "from transformers import XLNetModel, XLNetTokenizer, AdamW, get_linear_schedule_with_warmup\n",
        "import torch\n",
        "import numpy as np\n",
        "import pandas as pd\n",
        "import seaborn as sns\n",
        "from pylab import rcParams\n",
        "import matplotlib.pyplot as plt\n",
        "from matplotlib import rc\n",
        "from sklearn.model_selection import train_test_split\n",
        "from sklearn.metrics import confusion_matrix, classification_report\n",
        "from collections import defaultdict\n",
        "from textwrap import wrap\n",
        "from torch import nn, optim\n",
        "from torch.utils.data import Dataset, DataLoader\n",
        "import torch.nn.functional as F\n",
        "RANDOM_SEED = 69  \n",
        "np.random.seed(RANDOM_SEED)\n",
        "torch.manual_seed(RANDOM_SEED)\n",
        "device = torch.device(\"cuda:0\" if torch.cuda.is_available() else \"cpu\")\n",
        "device"
      ],
      "metadata": {
        "colab": {
          "base_uri": "https://localhost:8080/"
        },
        "id": "jbudm7jWLJ9y",
        "outputId": "8915b9fd-3173-4a32-d2f3-5be9ad8c6dd6"
      },
      "execution_count": 2,
      "outputs": [
        {
          "output_type": "execute_result",
          "data": {
            "text/plain": [
              "device(type='cuda', index=0)"
            ]
          },
          "metadata": {},
          "execution_count": 2
        }
      ]
    },
    {
      "cell_type": "code",
      "source": [
        "emoji_dataset = pd.read_csv(\"go_emotions_dataset.csv\")\n",
        "bad_indices = emoji_dataset.query('example_very_unclear == False').index\n",
        "emoji_updated1 = emoji_dataset.iloc[bad_indices,:].drop(columns = ['example_very_unclear', 'id'])\n",
        "emo_dict = {'Sentences' : emoji_updated1.iloc[:,0].to_numpy(), 'Emotions': emoji_updated1.iloc[:,1:].idxmax(1).to_numpy()}\n",
        "emoji_updated2 = pd.DataFrame(emo_dict)"
      ],
      "metadata": {
        "id": "MJYobxrkLw0r"
      },
      "execution_count": 3,
      "outputs": []
    },
    {
      "cell_type": "code",
      "source": [
        "rcParams['figure.figsize'] = 35, 12\n",
        "sns.countplot(emoji_updated2.Emotions)"
      ],
      "metadata": {
        "colab": {
          "base_uri": "https://localhost:8080/",
          "height": 606
        },
        "id": "MLStMuc6MGg7",
        "outputId": "ea3a0e2f-7d3b-4ffc-f404-1f411d29a2f3"
      },
      "execution_count": 4,
      "outputs": [
        {
          "output_type": "stream",
          "name": "stderr",
          "text": [
            "/usr/local/lib/python3.7/dist-packages/seaborn/_decorators.py:43: FutureWarning: Pass the following variable as a keyword arg: x. From version 0.12, the only valid positional argument will be `data`, and passing other arguments without an explicit keyword will result in an error or misinterpretation.\n",
            "  FutureWarning\n"
          ]
        },
        {
          "output_type": "execute_result",
          "data": {
            "text/plain": [
              "<matplotlib.axes._subplots.AxesSubplot at 0x7f643c5666d0>"
            ]
          },
          "metadata": {},
          "execution_count": 4
        },
        {
          "output_type": "display_data",
          "data": {
            "image/png": "[encoded data removed]",
            "text/plain": [
              "<Figure size 2520x864 with 1 Axes>"
            ]
          },
          "metadata": {
            "needs_background": "light"
          }
        }
      ]
    },
    {
      "cell_type": "code",
      "source": [
        "emoji_updated2.groupby('Emotions').count()"
      ],
      "metadata": {
        "colab": {
          "base_uri": "https://localhost:8080/",
          "height": 959
        },
        "id": "IEp0tTpCMJ9p",
        "outputId": "6a833593-7634-40db-88cc-8ee0821951d2"
      },
      "execution_count": 5,
      "outputs": [
        {
          "output_type": "execute_result",
          "data": {
            "text/html": [
              "\n",
              "  <div id=\"df-50217c48-2eed-4e0c-8cde-728b18ab31ea\">\n",
              "    <div class=\"colab-df-container\">\n",
              "      <div>\n",
              "<style scoped>\n",
              "    .dataframe tbody tr th:only-of-type {\n",
              "        vertical-align: middle;\n",
              "    }\n",
              "\n",
              "    .dataframe tbody tr th {\n",
              "        vertical-align: top;\n",
              "    }\n",
              "\n",
              "    .dataframe thead th {\n",
              "        text-align: right;\n",
              "    }\n",
              "</style>\n",
              "<table border=\"1\" class=\"dataframe\">\n",
              "  <thead>\n",
              "    <tr style=\"text-align: right;\">\n",
              "      <th></th>\n",
              "      <th>Sentences</th>\n",
              "    </tr>\n",
              "    <tr>\n",
              "      <th>Emotions</th>\n",
              "      <th></th>\n",
              "    </tr>\n",
              "  </thead>\n",
              "  <tbody>\n",
              "    <tr>\n",
              "      <th>admiration</th>\n",
              "      <td>17131</td>\n",
              "    </tr>\n",
              "    <tr>\n",
              "      <th>amusement</th>\n",
              "      <td>8862</td>\n",
              "    </tr>\n",
              "    <tr>\n",
              "      <th>anger</th>\n",
              "      <td>7956</td>\n",
              "    </tr>\n",
              "    <tr>\n",
              "      <th>annoyance</th>\n",
              "      <td>11929</td>\n",
              "    </tr>\n",
              "    <tr>\n",
              "      <th>approval</th>\n",
              "      <td>15530</td>\n",
              "    </tr>\n",
              "    <tr>\n",
              "      <th>caring</th>\n",
              "      <td>5147</td>\n",
              "    </tr>\n",
              "    <tr>\n",
              "      <th>confusion</th>\n",
              "      <td>6600</td>\n",
              "    </tr>\n",
              "    <tr>\n",
              "      <th>curiosity</th>\n",
              "      <td>7707</td>\n",
              "    </tr>\n",
              "    <tr>\n",
              "      <th>desire</th>\n",
              "      <td>3002</td>\n",
              "    </tr>\n",
              "    <tr>\n",
              "      <th>disappointment</th>\n",
              "      <td>6769</td>\n",
              "    </tr>\n",
              "    <tr>\n",
              "      <th>disapproval</th>\n",
              "      <td>8917</td>\n",
              "    </tr>\n",
              "    <tr>\n",
              "      <th>disgust</th>\n",
              "      <td>3420</td>\n",
              "    </tr>\n",
              "    <tr>\n",
              "      <th>embarrassment</th>\n",
              "      <td>1720</td>\n",
              "    </tr>\n",
              "    <tr>\n",
              "      <th>excitement</th>\n",
              "      <td>4375</td>\n",
              "    </tr>\n",
              "    <tr>\n",
              "      <th>fear</th>\n",
              "      <td>2514</td>\n",
              "    </tr>\n",
              "    <tr>\n",
              "      <th>gratitude</th>\n",
              "      <td>8437</td>\n",
              "    </tr>\n",
              "    <tr>\n",
              "      <th>grief</th>\n",
              "      <td>494</td>\n",
              "    </tr>\n",
              "    <tr>\n",
              "      <th>joy</th>\n",
              "      <td>5120</td>\n",
              "    </tr>\n",
              "    <tr>\n",
              "      <th>love</th>\n",
              "      <td>5310</td>\n",
              "    </tr>\n",
              "    <tr>\n",
              "      <th>nervousness</th>\n",
              "      <td>946</td>\n",
              "    </tr>\n",
              "    <tr>\n",
              "      <th>neutral</th>\n",
              "      <td>55298</td>\n",
              "    </tr>\n",
              "    <tr>\n",
              "      <th>optimism</th>\n",
              "      <td>4994</td>\n",
              "    </tr>\n",
              "    <tr>\n",
              "      <th>pride</th>\n",
              "      <td>714</td>\n",
              "    </tr>\n",
              "    <tr>\n",
              "      <th>realization</th>\n",
              "      <td>5125</td>\n",
              "    </tr>\n",
              "    <tr>\n",
              "      <th>relief</th>\n",
              "      <td>814</td>\n",
              "    </tr>\n",
              "    <tr>\n",
              "      <th>remorse</th>\n",
              "      <td>1648</td>\n",
              "    </tr>\n",
              "    <tr>\n",
              "      <th>sadness</th>\n",
              "      <td>3863</td>\n",
              "    </tr>\n",
              "    <tr>\n",
              "      <th>surprise</th>\n",
              "      <td>3472</td>\n",
              "    </tr>\n",
              "  </tbody>\n",
              "</table>\n",
              "</div>\n",
              "      <button class=\"colab-df-convert\" onclick=\"convertToInteractive('df-50217c48-2eed-4e0c-8cde-728b18ab31ea')\"\n",
              "              title=\"Convert this dataframe to an interactive table.\"\n",
              "              style=\"display:none;\">\n",
              "        \n",
              "  <svg xmlns=\"http://www.w3.org/2000/svg\" height=\"24px\"viewBox=\"0 0 24 24\"\n",
              "       width=\"24px\">\n",
              "    <path d=\"M0 0h24v24H0V0z\" fill=\"none\"/>\n",
              "    <path d=\"M18.56 5.44l.94 2.06.94-2.06 2.06-.94-2.06-.94-.94-2.06-.94 2.06-2.06.94zm-11 1L8.5 8.5l.94-2.06 2.06-.94-2.06-.94L8.5 2.5l-.94 2.06-2.06.94zm10 10l.94 2.06.94-2.06 2.06-.94-2.06-.94-.94-2.06-.94 2.06-2.06.94z\"/><path d=\"M17.41 7.96l-1.37-1.37c-.4-.4-.92-.59-1.43-.59-.52 0-1.04.2-1.43.59L10.3 9.45l-7.72 7.72c-.78.78-.78 2.05 0 2.83L4 21.41c.39.39.9.59 1.41.59.51 0 1.02-.2 1.41-.59l7.78-7.78 2.81-2.81c.8-.78.8-2.07 0-2.86zM5.41 20L4 18.59l7.72-7.72 1.47 1.35L5.41 20z\"/>\n",
              "  </svg>\n",
              "      </button>\n",
              "      \n",
              "  <style>\n",
              "    .colab-df-container {\n",
              "      display:flex;\n",
              "      flex-wrap:wrap;\n",
              "      gap: 12px;\n",
              "    }\n",
              "\n",
              "    .colab-df-convert {\n",
              "      background-color: #E8F0FE;\n",
              "      border: none;\n",
              "      border-radius: 50%;\n",
              "      cursor: pointer;\n",
              "      display: none;\n",
              "      fill: #1967D2;\n",
              "      height: 32px;\n",
              "      padding: 0 0 0 0;\n",
              "      width: 32px;\n",
              "    }\n",
              "\n",
              "    .colab-df-convert:hover {\n",
              "      background-color: #E2EBFA;\n",
              "      box-shadow: 0px 1px 2px rgba(60, 64, 67, 0.3), 0px 1px 3px 1px rgba(60, 64, 67, 0.15);\n",
              "      fill: #174EA6;\n",
              "    }\n",
              "\n",
              "    [theme=dark] .colab-df-convert {\n",
              "      background-color: #3B4455;\n",
              "      fill: #D2E3FC;\n",
              "    }\n",
              "\n",
              "    [theme=dark] .colab-df-convert:hover {\n",
              "      background-color: #434B5C;\n",
              "      box-shadow: 0px 1px 3px 1px rgba(0, 0, 0, 0.15);\n",
              "      filter: drop-shadow(0px 1px 2px rgba(0, 0, 0, 0.3));\n",
              "      fill: #FFFFFF;\n",
              "    }\n",
              "  </style>\n",
              "\n",
              "      <script>\n",
              "        const buttonEl =\n",
              "          document.querySelector('#df-50217c48-2eed-4e0c-8cde-728b18ab31ea button.colab-df-convert');\n",
              "        buttonEl.style.display =\n",
              "          google.colab.kernel.accessAllowed ? 'block' : 'none';\n",
              "\n",
              "        async function convertToInteractive(key) {\n",
              "          const element = document.querySelector('#df-50217c48-2eed-4e0c-8cde-728b18ab31ea');\n",
              "          const dataTable =\n",
              "            await google.colab.kernel.invokeFunction('convertToInteractive',\n",
              "                                                     [key], {});\n",
              "          if (!dataTable) return;\n",
              "\n",
              "          const docLinkHtml = 'Like what you see? Visit the ' +\n",
              "            '<a target=\"_blank\" href=https://colab.research.google.com/notebooks/data_table.ipynb>data table notebook</a>'\n",
              "            + ' to learn more about interactive tables.';\n",
              "          element.innerHTML = '';\n",
              "          dataTable['output_type'] = 'display_data';\n",
              "          await google.colab.output.renderOutput(dataTable, element);\n",
              "          const docLink = document.createElement('div');\n",
              "          docLink.innerHTML = docLinkHtml;\n",
              "          element.appendChild(docLink);\n",
              "        }\n",
              "      </script>\n",
              "    </div>\n",
              "  </div>\n",
              "  "
            ],
            "text/plain": [
              "                Sentences\n",
              "Emotions                 \n",
              "admiration          17131\n",
              "amusement            8862\n",
              "anger                7956\n",
              "annoyance           11929\n",
              "approval            15530\n",
              "caring               5147\n",
              "confusion            6600\n",
              "curiosity            7707\n",
              "desire               3002\n",
              "disappointment       6769\n",
              "disapproval          8917\n",
              "disgust              3420\n",
              "embarrassment        1720\n",
              "excitement           4375\n",
              "fear                 2514\n",
              "gratitude            8437\n",
              "grief                 494\n",
              "joy                  5120\n",
              "love                 5310\n",
              "nervousness           946\n",
              "neutral             55298\n",
              "optimism             4994\n",
              "pride                 714\n",
              "realization          5125\n",
              "relief                814\n",
              "remorse              1648\n",
              "sadness              3863\n",
              "surprise             3472"
            ]
          },
          "metadata": {},
          "execution_count": 5
        }
      ]
    },
    {
      "cell_type": "code",
      "source": [
        "class_names = emoji_updated2.Emotions.unique()\n",
        "values = np.arange(28)\n",
        "dictionary_emo_val = dict(zip(values, class_names))\n",
        "dictionary_val_emo = dict(zip(class_names, values))\n",
        "emoji_updated3 = emoji_updated2.replace(dictionary_val_emo)"
      ],
      "metadata": {
        "id": "cm_GcWZpNlDR"
      },
      "execution_count": 6,
      "outputs": []
    },
    {
      "cell_type": "code",
      "source": [
        "PRE_TRAINED_MODEL_NAME = 'xlnet-base-cased'\n",
        "tokenizer = XLNetTokenizer.from_pretrained(PRE_TRAINED_MODEL_NAME)\n",
        "MAX_LEN = 150"
      ],
      "metadata": {
        "id": "antKLpEpOPPh"
      },
      "execution_count": 7,
      "outputs": []
    },
    {
      "cell_type": "code",
      "source": [
        "class EmojiDataset(Dataset):\n",
        "\n",
        "  def __init__(self, sentences, targets, tokenizer, max_len):\n",
        "    self.sentences = sentences\n",
        "    self.targets = targets\n",
        "    self.tokenizer = tokenizer\n",
        "    self.max_len = max_len\n",
        "  \n",
        "  def __len__(self):\n",
        "    return len(self.sentences)\n",
        "  \n",
        "  def __getitem__(self, item):\n",
        "    review = str(self.sentences[item])\n",
        "    target = self.targets[item]\n",
        "\n",
        "    encoding = self.tokenizer.encode_plus(\n",
        "      review,\n",
        "      add_special_tokens=True,\n",
        "      max_length=self.max_len,\n",
        "      return_token_type_ids=False,\n",
        "      padding='max_length',\n",
        "      return_attention_mask=True,\n",
        "      return_tensors='pt',\n",
        "      truncation=True\n",
        "    )\n",
        "\n",
        "    return {\n",
        "      'review_text': review,\n",
        "      'input_ids': encoding['input_ids'].flatten(),\n",
        "      'attention_mask': encoding['attention_mask'].flatten(),\n",
        "      'targets': torch.tensor(target, dtype=torch.long)\n",
        "    }\n",
        "def create_data_loader(df, tokenizer, max_len, batch_size):\n",
        "  ds = EmojiDataset(\n",
        "    sentences=df.Sentences.to_numpy(),\n",
        "    targets=df.Emotions.to_numpy(),\n",
        "    tokenizer=tokenizer,\n",
        "    max_len=max_len\n",
        "  )\n",
        "\n",
        "  return DataLoader(\n",
        "    ds,\n",
        "    batch_size=batch_size,\n",
        "    num_workers=4\n",
        "  )\n",
        "class SentimentClassifier(nn.Module):\n",
        "\n",
        "  def __init__(self, n_classes):\n",
        "    super(SentimentClassifier, self).__init__()\n",
        "    self.XLNet = XLNetModel.from_pretrained(PRE_TRAINED_MODEL_NAME)\n",
        "    self.drop = nn.Dropout(p=0.1)\n",
        "    self.out = nn.Linear(self.XLNet.config.hidden_size, n_classes)\n",
        "  \n",
        "  def forward(self, input_ids, attention_mask):\n",
        "    pooled_output = self.XLNet(\n",
        "      input_ids=input_ids,\n",
        "      attention_mask=attention_mask,\n",
        "      return_dict=False\n",
        "    )\n",
        "    output = self.drop(pooled_output[0])\n",
        "    return self.out(output)"
      ],
      "metadata": {
        "id": "Jo5JD25pSZkg"
      },
      "execution_count": 8,
      "outputs": []
    },
    {
      "cell_type": "code",
      "source": [
        "df_train, df_test = train_test_split(emoji_updated3, test_size=0.1, random_state=RANDOM_SEED)\n",
        "df_val, df_test = train_test_split(emoji_updated3, test_size=0.5, random_state=RANDOM_SEED)\n",
        "df_train.shape, df_val.shape, df_test.shape"
      ],
      "metadata": {
        "colab": {
          "base_uri": "https://localhost:8080/"
        },
        "id": "EthArmn4T2xw",
        "outputId": "8c5dd17a-970b-4df7-e4e6-750ed273021c"
      },
      "execution_count": 9,
      "outputs": [
        {
          "output_type": "execute_result",
          "data": {
            "text/plain": [
              "((187032, 2), (103907, 2), (103907, 2))"
            ]
          },
          "metadata": {},
          "execution_count": 9
        }
      ]
    },
    {
      "cell_type": "code",
      "source": [
        "BATCH_SIZE = 64\n",
        "train_data_loader = create_data_loader(df_train, tokenizer, MAX_LEN, BATCH_SIZE)\n",
        "val_data_loader = create_data_loader(df_val, tokenizer, MAX_LEN, BATCH_SIZE)\n",
        "test_data_loader = create_data_loader(df_test, tokenizer, MAX_LEN, BATCH_SIZE)"
      ],
      "metadata": {
        "id": "zvzl2GcXUAkW"
      },
      "execution_count": 10,
      "outputs": []
    },
    {
      "cell_type": "code",
      "source": [
        "XLNet_model = XLNetModel.from_pretrained(PRE_TRAINED_MODEL_NAME)\n",
        "XLNet_model.config.hidden_size"
      ],
      "metadata": {
        "colab": {
          "base_uri": "https://localhost:8080/"
        },
        "id": "tOk3WQNZUhmQ",
        "outputId": "3d3b8266-f618-4fdf-c106-898433519c9e"
      },
      "execution_count": 11,
      "outputs": [
        {
          "output_type": "stream",
          "name": "stderr",
          "text": [
            "Some weights of the model checkpoint at xlnet-base-cased were not used when initializing XLNetModel: ['lm_loss.bias', 'lm_loss.weight']\n",
            "- This IS expected if you are initializing XLNetModel from the checkpoint of a model trained on another task or with another architecture (e.g. initializing a BertForSequenceClassification model from a BertForPreTraining model).\n",
            "- This IS NOT expected if you are initializing XLNetModel from the checkpoint of a model that you expect to be exactly identical (initializing a BertForSequenceClassification model from a BertForSequenceClassification model).\n"
          ]
        },
        {
          "output_type": "execute_result",
          "data": {
            "text/plain": [
              "768"
            ]
          },
          "metadata": {},
          "execution_count": 11
        }
      ]
    },
    {
      "cell_type": "code",
      "source": [
        "model = SentimentClassifier(len(class_names))\n",
        "model = model.to(device)\n",
        "EPOCHS = 20\n",
        "optimizer = AdamW(model.parameters(), lr=1e-5, correct_bias=False, eps = 1e-6)\n",
        "total_steps = len(train_data_loader) * EPOCHS\n",
        "scheduler = get_linear_schedule_with_warmup(\n",
        "  optimizer,\n",
        "  num_warmup_steps=0,\n",
        "  num_training_steps=total_steps\n",
        ")\n",
        "loss_fn = nn.CrossEntropyLoss().to(device)"
      ],
      "metadata": {
        "colab": {
          "base_uri": "https://localhost:8080/"
        },
        "id": "rMclf1ohUis2",
        "outputId": "aacb1de4-5968-4472-9b0a-db6e22207603"
      },
      "execution_count": 12,
      "outputs": [
        {
          "output_type": "stream",
          "name": "stderr",
          "text": [
            "Some weights of the model checkpoint at xlnet-base-cased were not used when initializing XLNetModel: ['lm_loss.bias', 'lm_loss.weight']\n",
            "- This IS expected if you are initializing XLNetModel from the checkpoint of a model trained on another task or with another architecture (e.g. initializing a BertForSequenceClassification model from a BertForPreTraining model).\n",
            "- This IS NOT expected if you are initializing XLNetModel from the checkpoint of a model that you expect to be exactly identical (initializing a BertForSequenceClassification model from a BertForSequenceClassification model).\n"
          ]
        }
      ]
    },
    {
      "cell_type": "code",
      "source": [
        "def train_epoch(\n",
        "  model, \n",
        "  data_loader, \n",
        "  loss_fn, \n",
        "  optimizer, \n",
        "  device, \n",
        "  scheduler, \n",
        "  n_examples\n",
        "):\n",
        "  model = model.train()\n",
        "\n",
        "  losses = []\n",
        "  correct_predictions = 0\n",
        "  \n",
        "  for d in data_loader:\n",
        "    input_ids = d[\"input_ids\"].to(device)\n",
        "    attention_mask = d[\"attention_mask\"].to(device)\n",
        "    targets = d[\"targets\"].to(device)\n",
        "\n",
        "    outputs = model(\n",
        "      input_ids=input_ids,\n",
        "      attention_mask=attention_mask\n",
        "    )\n",
        "    outputs = outputs.to(device)\n",
        "    _, preds = torch.max(outputs[:,149,:], dim=1)\n",
        "    #one_hot = torch.zeros(64, 28).type(torch.LongTensor).to(device)\n",
        "    #one_hot[torch.arange(64), targets] = 1\n",
        "    #ont_hot = one_hot.to(device)\n",
        "    loss = loss_fn(outputs[:,149,:], targets)\n",
        "    correct_predictions += torch.sum(preds == targets)\n",
        "    losses.append(loss.item())\n",
        "\n",
        "    loss.backward()\n",
        "    nn.utils.clip_grad_norm_(model.parameters(), max_norm=1.0)\n",
        "    optimizer.step()\n",
        "    scheduler.step()\n",
        "    optimizer.zero_grad()\n",
        "\n",
        "  return correct_predictions.double() / n_examples, np.mean(losses)\n",
        "\n",
        "def eval_model(model, data_loader, loss_fn, device, n_examples):\n",
        "  model = model.eval()\n",
        "\n",
        "  losses = []\n",
        "  correct_predictions = 0\n",
        "\n",
        "  with torch.no_grad():\n",
        "    for d in data_loader:\n",
        "      input_ids = d[\"input_ids\"].to(device)\n",
        "      attention_mask = d[\"attention_mask\"].to(device)\n",
        "      targets = d[\"targets\"].to(device)\n",
        "\n",
        "      outputs = model(\n",
        "        input_ids=input_ids,\n",
        "        attention_mask=attention_mask\n",
        "      )\n",
        "      _, preds = torch.max(outputs[:,149,:], dim=1)\n",
        "      #one_hot = torch.zeros(64, 28).type(torch.LongTensor).to(device)\n",
        "      #one_hot[torch.arange(64), targets] = 1\n",
        "      #ont_hot = one_hot.to(device)\n",
        "      loss = loss_fn(outputs[:,149,:], targets)\n",
        "      correct_predictions += torch.sum(preds == targets)\n",
        "      losses.append(loss.item())\n",
        "\n",
        "  return correct_predictions.double() / n_examples, np.mean(losses)"
      ],
      "metadata": {
        "id": "DMO26IBRXJbH"
      },
      "execution_count": 13,
      "outputs": []
    },
    {
      "cell_type": "code",
      "source": [
        "%%time\n",
        "\n",
        "history = defaultdict(list)\n",
        "best_accuracy = 0\n",
        "\n",
        "for epoch in range(EPOCHS):\n",
        "\n",
        "  print(f'Epoch {epoch + 1}/{EPOCHS}')\n",
        "  print('-' * 10)\n",
        "\n",
        "  train_acc, train_loss = train_epoch(\n",
        "    model,\n",
        "    train_data_loader,    \n",
        "    loss_fn, \n",
        "    optimizer, \n",
        "    device, \n",
        "    scheduler, \n",
        "    len(df_train)\n",
        "  ) \n",
        "\n",
        "  print(f'Train loss {train_loss} accuracy {train_acc}')\n",
        "\n",
        "  val_acc, val_loss = eval_model(\n",
        "    model,\n",
        "    val_data_loader,\n",
        "    loss_fn, \n",
        "    device, \n",
        "    len(df_val)\n",
        "  )\n",
        "\n",
        "  print(f'Val   loss {val_loss} accuracy {val_acc}')\n",
        "  print()\n",
        "\n",
        "  history['train_acc'].append(train_acc)\n",
        "  history['train_loss'].append(train_loss)\n",
        "  history['val_acc'].append(val_acc)\n",
        "  history['val_loss'].append(val_loss)\n",
        "\n",
        "  if val_acc > best_accuracy:\n",
        "    torch.save(model.state_dict(), 'best_model_state.bin')\n",
        "    best_accuracy = val_acc"
      ],
      "metadata": {
        "colab": {
          "base_uri": "https://localhost:8080/"
        },
        "id": "pzQSrbIrXZwm",
        "outputId": "adea91fa-9225-48da-b9c4-4e7b5a837dd6"
      },
      "execution_count": null,
      "outputs": [
        {
          "output_type": "stream",
          "name": "stdout",
          "text": [
            "Epoch 1/20\n",
            "----------\n",
            "Train loss 2.0454094597545343 accuracy 0.40135377903246505\n",
            "Val   loss 1.8179703087642276 accuracy 0.4427516914163627\n",
            "\n",
            "Epoch 2/20\n",
            "----------\n",
            "Train loss 1.864765699864902 accuracy 0.4356046024209761\n",
            "Val   loss 1.7314588404054125 accuracy 0.46104689770660306\n",
            "\n",
            "Epoch 3/20\n",
            "----------\n",
            "Train loss 1.7944771960056525 accuracy 0.4493936866418581\n",
            "Val   loss 1.6646815131744142 accuracy 0.47600257922950334\n",
            "\n",
            "Epoch 4/20\n",
            "----------\n",
            "Train loss 1.7387731066722394 accuracy 0.46145044698233456\n",
            "Val   loss 1.592826038085181 accuracy 0.49229599545747643\n",
            "\n",
            "Epoch 5/20\n",
            "----------\n",
            "Train loss 1.6876348528680922 accuracy 0.4715984430471791\n",
            "Val   loss 1.5374547861920203 accuracy 0.5045473355981792\n",
            "\n",
            "Epoch 6/20\n",
            "----------\n",
            "Train loss 1.6416173835262386 accuracy 0.48163415886051586\n",
            "Val   loss 1.483295968527277 accuracy 0.5168852916550377\n",
            "\n",
            "Epoch 7/20\n",
            "----------\n",
            "Train loss 1.5974820929359907 accuracy 0.4891622823901792\n",
            "Val   loss 1.427077535705026 accuracy 0.5289537759727448\n",
            "\n",
            "Epoch 8/20\n",
            "----------\n",
            "Train loss 1.5565216671592603 accuracy 0.49823559604773515\n",
            "Val   loss 1.3754426279458507 accuracy 0.5413013560202874\n",
            "\n",
            "Epoch 9/20\n",
            "----------\n",
            "Train loss 1.5177562477610675 accuracy 0.5062663073698619\n",
            "Val   loss 1.3370352370912217 accuracy 0.5483942371543785\n",
            "\n",
            "Epoch 10/20\n",
            "----------\n",
            "Train loss 1.4859333717778167 accuracy 0.5122171606997733\n",
            "Val   loss 1.3032600293532381 accuracy 0.554457351285284\n",
            "\n",
            "Epoch 11/20\n",
            "----------\n",
            "Train loss 1.4527920245349386 accuracy 0.5190288292912443\n",
            "Val   loss 1.2646795356361737 accuracy 0.5612230167361199\n",
            "\n",
            "Epoch 12/20\n",
            "----------\n",
            "Train loss 1.4239081378632361 accuracy 0.5239103468925104\n",
            "Val   loss 1.2361507092790651 accuracy 0.5644951735686721\n",
            "\n",
            "Epoch 13/20\n",
            "----------\n",
            "Train loss 1.3978903349890432 accuracy 0.5294388126096069\n"
          ]
        }
      ]
    },
    {
      "cell_type": "code",
      "source": [
        "model = SentimentClassifier(len(class_names))\n",
        "model.load_state_dict(torch.load('best_model_state.bin'))\n",
        "model = model.to(device)"
      ],
      "metadata": {
        "colab": {
          "base_uri": "https://localhost:8080/"
        },
        "id": "2DzxpMwhNbsJ",
        "outputId": "1d215424-d3e4-4e45-b465-a0f69a186220"
      },
      "execution_count": null,
      "outputs": [
        {
          "output_type": "stream",
          "name": "stderr",
          "text": [
            "Some weights of the model checkpoint at bert-base-cased were not used when initializing BertModel: ['cls.seq_relationship.weight', 'cls.predictions.transform.LayerNorm.weight', 'cls.predictions.decoder.weight', 'cls.seq_relationship.bias', 'cls.predictions.transform.dense.bias', 'cls.predictions.transform.dense.weight', 'cls.predictions.transform.LayerNorm.bias', 'cls.predictions.bias']\n",
            "- This IS expected if you are initializing BertModel from the checkpoint of a model trained on another task or with another architecture (e.g. initializing a BertForSequenceClassification model from a BertForPreTraining model).\n",
            "- This IS NOT expected if you are initializing BertModel from the checkpoint of a model that you expect to be exactly identical (initializing a BertForSequenceClassification model from a BertForSequenceClassification model).\n"
          ]
        }
      ]
    },
    {
      "cell_type": "code",
      "source": [
        "test_acc, _ = eval_model(\n",
        "  model,\n",
        "  test_data_loader,\n",
        "  loss_fn,\n",
        "  device,\n",
        "  len(df_test)\n",
        ")\n",
        "\n",
        "test_acc.item()"
      ],
      "metadata": {
        "colab": {
          "base_uri": "https://localhost:8080/"
        },
        "id": "rnJnS-lbNeoI",
        "outputId": "efb9c8a5-aecd-4697-ceee-6cb3246e1470"
      },
      "execution_count": null,
      "outputs": [
        {
          "output_type": "execute_result",
          "data": {
            "text/plain": [
              "0.47029555275390494"
            ]
          },
          "metadata": {},
          "execution_count": 17
        }
      ]
    },
    {
      "cell_type": "code",
      "source": [
        "def get_predictions(model, data_loader):\n",
        "  model = model.eval()\n",
        "  \n",
        "  review_texts = []\n",
        "  predictions = []\n",
        "  prediction_probs = []\n",
        "  real_values = []\n",
        "\n",
        "  with torch.no_grad():\n",
        "    for d in data_loader:\n",
        "\n",
        "      texts = d[\"review_text\"]\n",
        "      input_ids = d[\"input_ids\"].to(device)\n",
        "      attention_mask = d[\"attention_mask\"].to(device)\n",
        "      targets = d[\"targets\"].to(device)\n",
        "\n",
        "      outputs = model(\n",
        "        input_ids=input_ids,\n",
        "        attention_mask=attention_mask\n",
        "      )\n",
        "      _, preds = torch.max(outputs, dim=1)\n",
        "\n",
        "      probs = F.softmax(outputs, dim=1)\n",
        "\n",
        "      review_texts.extend(texts)\n",
        "      predictions.extend(preds)\n",
        "      prediction_probs.extend(probs)\n",
        "      real_values.extend(targets)\n",
        "\n",
        "  predictions = torch.stack(predictions).cpu()\n",
        "  prediction_probs = torch.stack(prediction_probs).cpu()\n",
        "  real_values = torch.stack(real_values).cpu()\n",
        "  return review_texts, predictions, prediction_probs, real_values"
      ],
      "metadata": {
        "id": "T5_DmnnOPXrf"
      },
      "execution_count": null,
      "outputs": []
    },
    {
      "cell_type": "code",
      "source": [
        "y_review_texts, y_pred, y_pred_probs, y_test = get_predictions(\n",
        "  model,\n",
        "  test_data_loader\n",
        ")"
      ],
      "metadata": {
        "id": "5llXMqpXPfi_"
      },
      "execution_count": null,
      "outputs": []
    },
    {
      "cell_type": "code",
      "source": [
        "print(classification_report(y_test, y_pred, target_names=class_names))"
      ],
      "metadata": {
        "colab": {
          "base_uri": "https://localhost:8080/"
        },
        "id": "WMlYbq5KPhJv",
        "outputId": "03425eb3-e896-4b74-a1be-cdb364e76e83"
      },
      "execution_count": null,
      "outputs": [
        {
          "output_type": "stream",
          "name": "stdout",
          "text": [
            "                precision    recall  f1-score   support\n",
            "\n",
            "       sadness       0.37      0.38      0.38      1990\n",
            "       neutral       0.61      0.52      0.56     27509\n",
            "          love       0.51      0.71      0.60      2632\n",
            "     gratitude       0.72      0.69      0.71      4190\n",
            "   disapproval       0.36      0.40      0.38      4491\n",
            "     amusement       0.58      0.71      0.64      4459\n",
            "disappointment       0.29      0.31      0.30      3367\n",
            "    admiration       0.55      0.67      0.61      8536\n",
            "   realization       0.28      0.23      0.25      2578\n",
            "     annoyance       0.33      0.25      0.28      5945\n",
            "     confusion       0.40      0.40      0.40      3349\n",
            "      optimism       0.41      0.36      0.39      2507\n",
            "     curiosity       0.46      0.44      0.45      3799\n",
            "    excitement       0.40      0.29      0.34      2196\n",
            "        caring       0.37      0.43      0.40      2585\n",
            "       disgust       0.33      0.36      0.35      1683\n",
            "       remorse       0.45      0.45      0.45       814\n",
            "           joy       0.35      0.41      0.38      2552\n",
            "      approval       0.37      0.36      0.37      7803\n",
            " embarrassment       0.34      0.29      0.31       873\n",
            "      surprise       0.39      0.44      0.41      1761\n",
            "         anger       0.38      0.55      0.45      4005\n",
            "         grief       0.26      0.42      0.32       255\n",
            "         pride       0.25      0.20      0.22       363\n",
            "        desire       0.39      0.40      0.39      1481\n",
            "        relief       0.28      0.20      0.24       414\n",
            "          fear       0.45      0.54      0.49      1272\n",
            "   nervousness       0.32      0.16      0.21       498\n",
            "\n",
            "      accuracy                           0.47    103907\n",
            "     macro avg       0.40      0.41      0.40    103907\n",
            "  weighted avg       0.47      0.47      0.47    103907\n",
            "\n"
          ]
        }
      ]
    }
  ]
}