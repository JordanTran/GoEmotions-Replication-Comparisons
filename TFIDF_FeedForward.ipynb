{
 "cells": [
  {
   "cell_type": "code",
   "execution_count": 1,
   "metadata": {
    "collapsed": true
   },
   "outputs": [],
   "source": [
    "import pandas as pd\n",
    "import numpy as np"
   ]
  },
  {
   "cell_type": "code",
   "execution_count": 8,
   "outputs": [],
   "source": [
    "emoji_dataset = pd.read_csv(\"go_emotions_dataset.csv\")"
   ],
   "metadata": {
    "collapsed": false,
    "pycharm": {
     "name": "#%%\n"
    }
   }
  },
  {
   "cell_type": "code",
   "execution_count": 33,
   "outputs": [
    {
     "data": {
      "text/plain": "                                                Sentences    Emotions\n0                                         That game hurt.     sadness\n1          You do right, if you don't care then fuck 'em!     neutral\n2                                      Man I love reddit.        love\n3       [NAME] was nowhere near them, he was by the Fa...     neutral\n4       Right? Considering it’s such an important docu...   gratitude\n...                                                   ...         ...\n207809  Well, I'm glad you're out of all that now. How...         joy\n207810                             Everyone likes [NAME].        love\n207811  Well when you’ve imported about a gazillion of...      caring\n207812                                 That looks amazing  admiration\n207813  The FDA has plenty to criticize. But like here...       anger\n\n[207814 rows x 2 columns]",
      "text/html": "<div>\n<style scoped>\n    .dataframe tbody tr th:only-of-type {\n        vertical-align: middle;\n    }\n\n    .dataframe tbody tr th {\n        vertical-align: top;\n    }\n\n    .dataframe thead th {\n        text-align: right;\n    }\n</style>\n<table border=\"1\" class=\"dataframe\">\n  <thead>\n    <tr style=\"text-align: right;\">\n      <th></th>\n      <th>Sentences</th>\n      <th>Emotions</th>\n    </tr>\n  </thead>\n  <tbody>\n    <tr>\n      <th>0</th>\n      <td>That game hurt.</td>\n      <td>sadness</td>\n    </tr>\n    <tr>\n      <th>1</th>\n      <td>You do right, if you don't care then fuck 'em!</td>\n      <td>neutral</td>\n    </tr>\n    <tr>\n      <th>2</th>\n      <td>Man I love reddit.</td>\n      <td>love</td>\n    </tr>\n    <tr>\n      <th>3</th>\n      <td>[NAME] was nowhere near them, he was by the Fa...</td>\n      <td>neutral</td>\n    </tr>\n    <tr>\n      <th>4</th>\n      <td>Right? Considering it’s such an important docu...</td>\n      <td>gratitude</td>\n    </tr>\n    <tr>\n      <th>...</th>\n      <td>...</td>\n      <td>...</td>\n    </tr>\n    <tr>\n      <th>207809</th>\n      <td>Well, I'm glad you're out of all that now. How...</td>\n      <td>joy</td>\n    </tr>\n    <tr>\n      <th>207810</th>\n      <td>Everyone likes [NAME].</td>\n      <td>love</td>\n    </tr>\n    <tr>\n      <th>207811</th>\n      <td>Well when you’ve imported about a gazillion of...</td>\n      <td>caring</td>\n    </tr>\n    <tr>\n      <th>207812</th>\n      <td>That looks amazing</td>\n      <td>admiration</td>\n    </tr>\n    <tr>\n      <th>207813</th>\n      <td>The FDA has plenty to criticize. But like here...</td>\n      <td>anger</td>\n    </tr>\n  </tbody>\n</table>\n<p>207814 rows × 2 columns</p>\n</div>"
     },
     "execution_count": 33,
     "metadata": {},
     "output_type": "execute_result"
    }
   ],
   "source": [
    "bad_indices = emoji_dataset.query('example_very_unclear == False').index\n",
    "emoji_updated1 = emoji_dataset.iloc[bad_indices,:].drop(columns = ['example_very_unclear', 'id'])\n",
    "dict = {'Sentences' : emoji_updated1.iloc[:,0].to_numpy(), 'Emotions': emoji_updated1.iloc[:,1:].idxmax(1).to_numpy()}\n",
    "emoji_updated2 = pd.DataFrame(dict)\n",
    "emoji_updated2"
   ],
   "metadata": {
    "collapsed": false,
    "pycharm": {
     "name": "#%%\n"
    }
   }
  },
  {
   "cell_type": "code",
   "execution_count": 67,
   "outputs": [],
   "source": [
    "from sklearn.feature_extraction.text import CountVectorizer\n",
    "from sklearn.feature_extraction.text import TfidfTransformer\n",
    "sentences = np.array(emoji_updated2['Sentences']).astype(str)\n",
    "category = np.array(emoji_updated2['Emotions'].astype('category').cat.codes).astype('int8')\n",
    "vect = CountVectorizer().fit(sentences)\n",
    "X_train_vect = vect.transform(sentences)\n",
    "tf = TfidfTransformer().fit(X_train_vect)\n",
    "X_train = tf.transform(X_train_vect).astype(np.float32).todense()\n",
    "#full_transformed = np.append(X_train, category.reshape(207814,1), axis=1)"
   ],
   "metadata": {
    "collapsed": false,
    "pycharm": {
     "name": "#%%\n"
    }
   }
  },
  {
   "cell_type": "code",
   "execution_count": 68,
   "outputs": [],
   "source": [
    "from sklearn.model_selection import train_test_split\n",
    "from sklearn.preprocessing import LabelBinarizer\n",
    "X_train, X_test, y_train, y_test = train_test_split(X_train, category, test_size=0.1)\n",
    "lb = LabelBinarizer()\n",
    "y_train = lb.fit_transform(y_train)\n",
    "y_test = lb.transform(y_test)"
   ],
   "metadata": {
    "collapsed": false,
    "pycharm": {
     "name": "#%%\n"
    }
   }
  },
  {
   "cell_type": "code",
   "execution_count": 92,
   "outputs": [],
   "source": [
    "from sklearn.metrics import classification_report\n",
    "from tensorflow.keras.models import Sequential\n",
    "from tensorflow.keras.layers import Dense\n",
    "from tensorflow.keras.optimizers import SGD\n",
    "model = Sequential()\n",
    "model.add(Dense(256, input_shape=(30698,), activation=\"relu\"))\n",
    "model.add(Dense(28, activation=\"softmax\"))\n",
    "model.compile(loss=\"categorical_crossentropy\", optimizer='adam',\n",
    "              metrics=[\"accuracy\"])"
   ],
   "metadata": {
    "collapsed": false,
    "pycharm": {
     "name": "#%%\n"
    }
   }
  },
  {
   "cell_type": "code",
   "execution_count": 93,
   "outputs": [
    {
     "name": "stdout",
     "output_type": "stream",
     "text": [
      "Epoch 1/100\n",
      "5845/5845 [==============================] - 136s 23ms/step - loss: 2.1635 - accuracy: 0.3873 - val_loss: 2.0221 - val_accuracy: 0.4133\n",
      "Epoch 2/100\n",
      "5845/5845 [==============================] - 139s 24ms/step - loss: 1.7644 - accuracy: 0.4531 - val_loss: 2.0496 - val_accuracy: 0.4105\n",
      "Epoch 3/100\n",
      "5845/5845 [==============================] - 138s 24ms/step - loss: 1.5967 - accuracy: 0.4765 - val_loss: 2.1153 - val_accuracy: 0.4048\n",
      "Epoch 4/100\n",
      "5845/5845 [==============================] - 140s 24ms/step - loss: 1.4910 - accuracy: 0.4895 - val_loss: 2.1965 - val_accuracy: 0.3996\n",
      "Epoch 5/100\n",
      "5845/5845 [==============================] - 140s 24ms/step - loss: 1.4177 - accuracy: 0.4978 - val_loss: 2.2606 - val_accuracy: 0.3944\n",
      "Epoch 6/100\n",
      "5845/5845 [==============================] - 140s 24ms/step - loss: 1.3635 - accuracy: 0.5043 - val_loss: 2.3144 - val_accuracy: 0.3957\n",
      "Epoch 7/100\n",
      "5845/5845 [==============================] - 138s 24ms/step - loss: 1.3211 - accuracy: 0.5079 - val_loss: 2.3750 - val_accuracy: 0.3923\n",
      "Epoch 8/100\n",
      "5845/5845 [==============================] - 137s 24ms/step - loss: 1.2873 - accuracy: 0.5116 - val_loss: 2.4239 - val_accuracy: 0.3903\n",
      "Epoch 9/100\n",
      "5845/5845 [==============================] - 139s 24ms/step - loss: 1.2595 - accuracy: 0.5137 - val_loss: 2.4866 - val_accuracy: 0.3907\n",
      "Epoch 10/100\n",
      "5845/5845 [==============================] - 139s 24ms/step - loss: 1.2369 - accuracy: 0.5163 - val_loss: 2.5305 - val_accuracy: 0.3846\n",
      "Epoch 11/100\n",
      "5845/5845 [==============================] - 139s 24ms/step - loss: 1.2179 - accuracy: 0.5194 - val_loss: 2.5497 - val_accuracy: 0.3804\n",
      "Epoch 12/100\n",
      "5845/5845 [==============================] - 138s 24ms/step - loss: 1.2020 - accuracy: 0.5200 - val_loss: 2.6227 - val_accuracy: 0.3836\n",
      "Epoch 13/100\n",
      "5845/5845 [==============================] - 138s 24ms/step - loss: 1.1877 - accuracy: 0.5221 - val_loss: 2.6412 - val_accuracy: 0.3859\n",
      "Epoch 14/100\n",
      "5845/5845 [==============================] - 137s 23ms/step - loss: 1.1748 - accuracy: 0.5236 - val_loss: 2.6650 - val_accuracy: 0.3821\n",
      "Epoch 15/100\n",
      "5845/5845 [==============================] - 141s 24ms/step - loss: 1.1644 - accuracy: 0.5243 - val_loss: 2.7119 - val_accuracy: 0.3764\n",
      "Epoch 16/100\n",
      "5845/5845 [==============================] - 139s 24ms/step - loss: 1.1548 - accuracy: 0.5252 - val_loss: 2.7302 - val_accuracy: 0.3700\n",
      "Epoch 17/100\n",
      "5845/5845 [==============================] - 141s 24ms/step - loss: 1.1463 - accuracy: 0.5267 - val_loss: 2.7485 - val_accuracy: 0.3782\n",
      "Epoch 18/100\n",
      "5845/5845 [==============================] - 140s 24ms/step - loss: 1.1387 - accuracy: 0.5275 - val_loss: 2.7739 - val_accuracy: 0.3772\n",
      "Epoch 19/100\n",
      "5845/5845 [==============================] - 141s 24ms/step - loss: 1.1314 - accuracy: 0.5272 - val_loss: 2.7989 - val_accuracy: 0.3784\n",
      "Epoch 20/100\n",
      "5845/5845 [==============================] - 139s 24ms/step - loss: 1.1249 - accuracy: 0.5280 - val_loss: 2.8070 - val_accuracy: 0.3750\n",
      "Epoch 21/100\n",
      "5845/5845 [==============================] - 137s 23ms/step - loss: 1.1192 - accuracy: 0.5287 - val_loss: 2.8346 - val_accuracy: 0.3717\n",
      "Epoch 22/100\n",
      "5845/5845 [==============================] - 136s 23ms/step - loss: 1.1135 - accuracy: 0.5289 - val_loss: 2.8377 - val_accuracy: 0.3766\n",
      "Epoch 23/100\n",
      "5845/5845 [==============================] - 138s 24ms/step - loss: 1.1085 - accuracy: 0.5306 - val_loss: 2.8619 - val_accuracy: 0.3746\n",
      "Epoch 24/100\n",
      "5845/5845 [==============================] - 138s 24ms/step - loss: 1.1042 - accuracy: 0.5305 - val_loss: 2.8822 - val_accuracy: 0.3693\n",
      "Epoch 25/100\n",
      "5845/5845 [==============================] - 137s 24ms/step - loss: 1.0998 - accuracy: 0.5324 - val_loss: 2.8999 - val_accuracy: 0.3717\n",
      "Epoch 26/100\n",
      "5845/5845 [==============================] - 134s 23ms/step - loss: 1.0958 - accuracy: 0.5311 - val_loss: 2.9053 - val_accuracy: 0.3727\n",
      "Epoch 27/100\n",
      "5845/5845 [==============================] - 136s 23ms/step - loss: 1.0918 - accuracy: 0.5321 - val_loss: 2.9320 - val_accuracy: 0.3693\n",
      "Epoch 28/100\n",
      "5845/5845 [==============================] - 139s 24ms/step - loss: 1.0886 - accuracy: 0.5331 - val_loss: 2.9474 - val_accuracy: 0.3612\n",
      "Epoch 29/100\n",
      "5845/5845 [==============================] - 138s 24ms/step - loss: 1.0854 - accuracy: 0.5326 - val_loss: 2.9526 - val_accuracy: 0.3702\n",
      "Epoch 30/100\n",
      "5845/5845 [==============================] - 139s 24ms/step - loss: 1.0822 - accuracy: 0.5329 - val_loss: 2.9645 - val_accuracy: 0.3636\n",
      "Epoch 31/100\n",
      "5845/5845 [==============================] - 138s 24ms/step - loss: 1.0789 - accuracy: 0.5342 - val_loss: 2.9733 - val_accuracy: 0.3651\n",
      "Epoch 32/100\n",
      "5845/5845 [==============================] - 140s 24ms/step - loss: 1.0763 - accuracy: 0.5338 - val_loss: 2.9821 - val_accuracy: 0.3677\n",
      "Epoch 33/100\n",
      "3013/5845 [==============>...............] - ETA: 1:06 - loss: 1.0140 - accuracy: 0.5490"
     ]
    },
    {
     "ename": "KeyboardInterrupt",
     "evalue": "",
     "output_type": "error",
     "traceback": [
      "\u001B[1;31m---------------------------------------------------------------------------\u001B[0m",
      "\u001B[1;31mKeyboardInterrupt\u001B[0m                         Traceback (most recent call last)",
      "\u001B[1;32m~\\AppData\\Local\\Temp/ipykernel_17740/4256966734.py\u001B[0m in \u001B[0;36m<module>\u001B[1;34m\u001B[0m\n\u001B[1;32m----> 1\u001B[1;33m H = model.fit(X_train, y_train, validation_data=(X_test, y_test),\n\u001B[0m\u001B[0;32m      2\u001B[0m               epochs=100, batch_size=32, verbose = 1)\n",
      "\u001B[1;32m~\\AppData\\Local\\r-miniconda\\lib\\site-packages\\keras\\utils\\traceback_utils.py\u001B[0m in \u001B[0;36merror_handler\u001B[1;34m(*args, **kwargs)\u001B[0m\n\u001B[0;32m     62\u001B[0m     \u001B[0mfiltered_tb\u001B[0m \u001B[1;33m=\u001B[0m \u001B[1;32mNone\u001B[0m\u001B[1;33m\u001B[0m\u001B[1;33m\u001B[0m\u001B[0m\n\u001B[0;32m     63\u001B[0m     \u001B[1;32mtry\u001B[0m\u001B[1;33m:\u001B[0m\u001B[1;33m\u001B[0m\u001B[1;33m\u001B[0m\u001B[0m\n\u001B[1;32m---> 64\u001B[1;33m       \u001B[1;32mreturn\u001B[0m \u001B[0mfn\u001B[0m\u001B[1;33m(\u001B[0m\u001B[1;33m*\u001B[0m\u001B[0margs\u001B[0m\u001B[1;33m,\u001B[0m \u001B[1;33m**\u001B[0m\u001B[0mkwargs\u001B[0m\u001B[1;33m)\u001B[0m\u001B[1;33m\u001B[0m\u001B[1;33m\u001B[0m\u001B[0m\n\u001B[0m\u001B[0;32m     65\u001B[0m     \u001B[1;32mexcept\u001B[0m \u001B[0mException\u001B[0m \u001B[1;32mas\u001B[0m \u001B[0me\u001B[0m\u001B[1;33m:\u001B[0m  \u001B[1;31m# pylint: disable=broad-except\u001B[0m\u001B[1;33m\u001B[0m\u001B[1;33m\u001B[0m\u001B[0m\n\u001B[0;32m     66\u001B[0m       \u001B[0mfiltered_tb\u001B[0m \u001B[1;33m=\u001B[0m \u001B[0m_process_traceback_frames\u001B[0m\u001B[1;33m(\u001B[0m\u001B[0me\u001B[0m\u001B[1;33m.\u001B[0m\u001B[0m__traceback__\u001B[0m\u001B[1;33m)\u001B[0m\u001B[1;33m\u001B[0m\u001B[1;33m\u001B[0m\u001B[0m\n",
      "\u001B[1;32m~\\AppData\\Local\\r-miniconda\\lib\\site-packages\\keras\\engine\\training.py\u001B[0m in \u001B[0;36mfit\u001B[1;34m(self, x, y, batch_size, epochs, verbose, callbacks, validation_split, validation_data, shuffle, class_weight, sample_weight, initial_epoch, steps_per_epoch, validation_steps, validation_batch_size, validation_freq, max_queue_size, workers, use_multiprocessing)\u001B[0m\n\u001B[0;32m   1214\u001B[0m                 _r=1):\n\u001B[0;32m   1215\u001B[0m               \u001B[0mcallbacks\u001B[0m\u001B[1;33m.\u001B[0m\u001B[0mon_train_batch_begin\u001B[0m\u001B[1;33m(\u001B[0m\u001B[0mstep\u001B[0m\u001B[1;33m)\u001B[0m\u001B[1;33m\u001B[0m\u001B[1;33m\u001B[0m\u001B[0m\n\u001B[1;32m-> 1216\u001B[1;33m               \u001B[0mtmp_logs\u001B[0m \u001B[1;33m=\u001B[0m \u001B[0mself\u001B[0m\u001B[1;33m.\u001B[0m\u001B[0mtrain_function\u001B[0m\u001B[1;33m(\u001B[0m\u001B[0miterator\u001B[0m\u001B[1;33m)\u001B[0m\u001B[1;33m\u001B[0m\u001B[1;33m\u001B[0m\u001B[0m\n\u001B[0m\u001B[0;32m   1217\u001B[0m               \u001B[1;32mif\u001B[0m \u001B[0mdata_handler\u001B[0m\u001B[1;33m.\u001B[0m\u001B[0mshould_sync\u001B[0m\u001B[1;33m:\u001B[0m\u001B[1;33m\u001B[0m\u001B[1;33m\u001B[0m\u001B[0m\n\u001B[0;32m   1218\u001B[0m                 \u001B[0mcontext\u001B[0m\u001B[1;33m.\u001B[0m\u001B[0masync_wait\u001B[0m\u001B[1;33m(\u001B[0m\u001B[1;33m)\u001B[0m\u001B[1;33m\u001B[0m\u001B[1;33m\u001B[0m\u001B[0m\n",
      "\u001B[1;32m~\\AppData\\Local\\r-miniconda\\lib\\site-packages\\tensorflow\\python\\util\\traceback_utils.py\u001B[0m in \u001B[0;36merror_handler\u001B[1;34m(*args, **kwargs)\u001B[0m\n\u001B[0;32m    148\u001B[0m     \u001B[0mfiltered_tb\u001B[0m \u001B[1;33m=\u001B[0m \u001B[1;32mNone\u001B[0m\u001B[1;33m\u001B[0m\u001B[1;33m\u001B[0m\u001B[0m\n\u001B[0;32m    149\u001B[0m     \u001B[1;32mtry\u001B[0m\u001B[1;33m:\u001B[0m\u001B[1;33m\u001B[0m\u001B[1;33m\u001B[0m\u001B[0m\n\u001B[1;32m--> 150\u001B[1;33m       \u001B[1;32mreturn\u001B[0m \u001B[0mfn\u001B[0m\u001B[1;33m(\u001B[0m\u001B[1;33m*\u001B[0m\u001B[0margs\u001B[0m\u001B[1;33m,\u001B[0m \u001B[1;33m**\u001B[0m\u001B[0mkwargs\u001B[0m\u001B[1;33m)\u001B[0m\u001B[1;33m\u001B[0m\u001B[1;33m\u001B[0m\u001B[0m\n\u001B[0m\u001B[0;32m    151\u001B[0m     \u001B[1;32mexcept\u001B[0m \u001B[0mException\u001B[0m \u001B[1;32mas\u001B[0m \u001B[0me\u001B[0m\u001B[1;33m:\u001B[0m\u001B[1;33m\u001B[0m\u001B[1;33m\u001B[0m\u001B[0m\n\u001B[0;32m    152\u001B[0m       \u001B[0mfiltered_tb\u001B[0m \u001B[1;33m=\u001B[0m \u001B[0m_process_traceback_frames\u001B[0m\u001B[1;33m(\u001B[0m\u001B[0me\u001B[0m\u001B[1;33m.\u001B[0m\u001B[0m__traceback__\u001B[0m\u001B[1;33m)\u001B[0m\u001B[1;33m\u001B[0m\u001B[1;33m\u001B[0m\u001B[0m\n",
      "\u001B[1;32m~\\AppData\\Local\\r-miniconda\\lib\\site-packages\\tensorflow\\python\\eager\\def_function.py\u001B[0m in \u001B[0;36m__call__\u001B[1;34m(self, *args, **kwds)\u001B[0m\n\u001B[0;32m    908\u001B[0m \u001B[1;33m\u001B[0m\u001B[0m\n\u001B[0;32m    909\u001B[0m       \u001B[1;32mwith\u001B[0m \u001B[0mOptionalXlaContext\u001B[0m\u001B[1;33m(\u001B[0m\u001B[0mself\u001B[0m\u001B[1;33m.\u001B[0m\u001B[0m_jit_compile\u001B[0m\u001B[1;33m)\u001B[0m\u001B[1;33m:\u001B[0m\u001B[1;33m\u001B[0m\u001B[1;33m\u001B[0m\u001B[0m\n\u001B[1;32m--> 910\u001B[1;33m         \u001B[0mresult\u001B[0m \u001B[1;33m=\u001B[0m \u001B[0mself\u001B[0m\u001B[1;33m.\u001B[0m\u001B[0m_call\u001B[0m\u001B[1;33m(\u001B[0m\u001B[1;33m*\u001B[0m\u001B[0margs\u001B[0m\u001B[1;33m,\u001B[0m \u001B[1;33m**\u001B[0m\u001B[0mkwds\u001B[0m\u001B[1;33m)\u001B[0m\u001B[1;33m\u001B[0m\u001B[1;33m\u001B[0m\u001B[0m\n\u001B[0m\u001B[0;32m    911\u001B[0m \u001B[1;33m\u001B[0m\u001B[0m\n\u001B[0;32m    912\u001B[0m       \u001B[0mnew_tracing_count\u001B[0m \u001B[1;33m=\u001B[0m \u001B[0mself\u001B[0m\u001B[1;33m.\u001B[0m\u001B[0mexperimental_get_tracing_count\u001B[0m\u001B[1;33m(\u001B[0m\u001B[1;33m)\u001B[0m\u001B[1;33m\u001B[0m\u001B[1;33m\u001B[0m\u001B[0m\n",
      "\u001B[1;32m~\\AppData\\Local\\r-miniconda\\lib\\site-packages\\tensorflow\\python\\eager\\def_function.py\u001B[0m in \u001B[0;36m_call\u001B[1;34m(self, *args, **kwds)\u001B[0m\n\u001B[0;32m    940\u001B[0m       \u001B[1;31m# In this case we have created variables on the first call, so we run the\u001B[0m\u001B[1;33m\u001B[0m\u001B[1;33m\u001B[0m\u001B[1;33m\u001B[0m\u001B[0m\n\u001B[0;32m    941\u001B[0m       \u001B[1;31m# defunned version which is guaranteed to never create variables.\u001B[0m\u001B[1;33m\u001B[0m\u001B[1;33m\u001B[0m\u001B[1;33m\u001B[0m\u001B[0m\n\u001B[1;32m--> 942\u001B[1;33m       \u001B[1;32mreturn\u001B[0m \u001B[0mself\u001B[0m\u001B[1;33m.\u001B[0m\u001B[0m_stateless_fn\u001B[0m\u001B[1;33m(\u001B[0m\u001B[1;33m*\u001B[0m\u001B[0margs\u001B[0m\u001B[1;33m,\u001B[0m \u001B[1;33m**\u001B[0m\u001B[0mkwds\u001B[0m\u001B[1;33m)\u001B[0m  \u001B[1;31m# pylint: disable=not-callable\u001B[0m\u001B[1;33m\u001B[0m\u001B[1;33m\u001B[0m\u001B[0m\n\u001B[0m\u001B[0;32m    943\u001B[0m     \u001B[1;32melif\u001B[0m \u001B[0mself\u001B[0m\u001B[1;33m.\u001B[0m\u001B[0m_stateful_fn\u001B[0m \u001B[1;32mis\u001B[0m \u001B[1;32mnot\u001B[0m \u001B[1;32mNone\u001B[0m\u001B[1;33m:\u001B[0m\u001B[1;33m\u001B[0m\u001B[1;33m\u001B[0m\u001B[0m\n\u001B[0;32m    944\u001B[0m       \u001B[1;31m# Release the lock early so that multiple threads can perform the call\u001B[0m\u001B[1;33m\u001B[0m\u001B[1;33m\u001B[0m\u001B[1;33m\u001B[0m\u001B[0m\n",
      "\u001B[1;32m~\\AppData\\Local\\r-miniconda\\lib\\site-packages\\tensorflow\\python\\eager\\function.py\u001B[0m in \u001B[0;36m__call__\u001B[1;34m(self, *args, **kwargs)\u001B[0m\n\u001B[0;32m   3128\u001B[0m       (graph_function,\n\u001B[0;32m   3129\u001B[0m        filtered_flat_args) = self._maybe_define_function(args, kwargs)\n\u001B[1;32m-> 3130\u001B[1;33m     return graph_function._call_flat(\n\u001B[0m\u001B[0;32m   3131\u001B[0m         filtered_flat_args, captured_inputs=graph_function.captured_inputs)  # pylint: disable=protected-access\n\u001B[0;32m   3132\u001B[0m \u001B[1;33m\u001B[0m\u001B[0m\n",
      "\u001B[1;32m~\\AppData\\Local\\r-miniconda\\lib\\site-packages\\tensorflow\\python\\eager\\function.py\u001B[0m in \u001B[0;36m_call_flat\u001B[1;34m(self, args, captured_inputs, cancellation_manager)\u001B[0m\n\u001B[0;32m   1957\u001B[0m         and executing_eagerly):\n\u001B[0;32m   1958\u001B[0m       \u001B[1;31m# No tape is watching; skip to running the function.\u001B[0m\u001B[1;33m\u001B[0m\u001B[1;33m\u001B[0m\u001B[1;33m\u001B[0m\u001B[0m\n\u001B[1;32m-> 1959\u001B[1;33m       return self._build_call_outputs(self._inference_function.call(\n\u001B[0m\u001B[0;32m   1960\u001B[0m           ctx, args, cancellation_manager=cancellation_manager))\n\u001B[0;32m   1961\u001B[0m     forward_backward = self._select_forward_and_backward_functions(\n",
      "\u001B[1;32m~\\AppData\\Local\\r-miniconda\\lib\\site-packages\\tensorflow\\python\\eager\\function.py\u001B[0m in \u001B[0;36mcall\u001B[1;34m(self, ctx, args, cancellation_manager)\u001B[0m\n\u001B[0;32m    596\u001B[0m       \u001B[1;32mwith\u001B[0m \u001B[0m_InterpolateFunctionError\u001B[0m\u001B[1;33m(\u001B[0m\u001B[0mself\u001B[0m\u001B[1;33m)\u001B[0m\u001B[1;33m:\u001B[0m\u001B[1;33m\u001B[0m\u001B[1;33m\u001B[0m\u001B[0m\n\u001B[0;32m    597\u001B[0m         \u001B[1;32mif\u001B[0m \u001B[0mcancellation_manager\u001B[0m \u001B[1;32mis\u001B[0m \u001B[1;32mNone\u001B[0m\u001B[1;33m:\u001B[0m\u001B[1;33m\u001B[0m\u001B[1;33m\u001B[0m\u001B[0m\n\u001B[1;32m--> 598\u001B[1;33m           outputs = execute.execute(\n\u001B[0m\u001B[0;32m    599\u001B[0m               \u001B[0mstr\u001B[0m\u001B[1;33m(\u001B[0m\u001B[0mself\u001B[0m\u001B[1;33m.\u001B[0m\u001B[0msignature\u001B[0m\u001B[1;33m.\u001B[0m\u001B[0mname\u001B[0m\u001B[1;33m)\u001B[0m\u001B[1;33m,\u001B[0m\u001B[1;33m\u001B[0m\u001B[1;33m\u001B[0m\u001B[0m\n\u001B[0;32m    600\u001B[0m               \u001B[0mnum_outputs\u001B[0m\u001B[1;33m=\u001B[0m\u001B[0mself\u001B[0m\u001B[1;33m.\u001B[0m\u001B[0m_num_outputs\u001B[0m\u001B[1;33m,\u001B[0m\u001B[1;33m\u001B[0m\u001B[1;33m\u001B[0m\u001B[0m\n",
      "\u001B[1;32m~\\AppData\\Local\\r-miniconda\\lib\\site-packages\\tensorflow\\python\\eager\\execute.py\u001B[0m in \u001B[0;36mquick_execute\u001B[1;34m(op_name, num_outputs, inputs, attrs, ctx, name)\u001B[0m\n\u001B[0;32m     56\u001B[0m   \u001B[1;32mtry\u001B[0m\u001B[1;33m:\u001B[0m\u001B[1;33m\u001B[0m\u001B[1;33m\u001B[0m\u001B[0m\n\u001B[0;32m     57\u001B[0m     \u001B[0mctx\u001B[0m\u001B[1;33m.\u001B[0m\u001B[0mensure_initialized\u001B[0m\u001B[1;33m(\u001B[0m\u001B[1;33m)\u001B[0m\u001B[1;33m\u001B[0m\u001B[1;33m\u001B[0m\u001B[0m\n\u001B[1;32m---> 58\u001B[1;33m     tensors = pywrap_tfe.TFE_Py_Execute(ctx._handle, device_name, op_name,\n\u001B[0m\u001B[0;32m     59\u001B[0m                                         inputs, attrs, num_outputs)\n\u001B[0;32m     60\u001B[0m   \u001B[1;32mexcept\u001B[0m \u001B[0mcore\u001B[0m\u001B[1;33m.\u001B[0m\u001B[0m_NotOkStatusException\u001B[0m \u001B[1;32mas\u001B[0m \u001B[0me\u001B[0m\u001B[1;33m:\u001B[0m\u001B[1;33m\u001B[0m\u001B[1;33m\u001B[0m\u001B[0m\n",
      "\u001B[1;31mKeyboardInterrupt\u001B[0m: "
     ]
    }
   ],
   "source": [
    "H = model.fit(X_train, y_train, validation_data=(X_test, y_test),\n",
    "              epochs=100, batch_size=32, verbose = 1)"
   ],
   "metadata": {
    "collapsed": false,
    "pycharm": {
     "name": "#%%\n"
    }
   }
  },
  {
   "cell_type": "code",
   "execution_count": 83,
   "outputs": [
    {
     "data": {
      "text/plain": "(187032, 30698)"
     },
     "execution_count": 83,
     "metadata": {},
     "output_type": "execute_result"
    }
   ],
   "source": [],
   "metadata": {
    "collapsed": false,
    "pycharm": {
     "name": "#%%\n"
    }
   }
  },
  {
   "cell_type": "code",
   "execution_count": null,
   "outputs": [],
   "source": [],
   "metadata": {
    "collapsed": false,
    "pycharm": {
     "name": "#%%\n"
    }
   }
  }
 ],
 "metadata": {
  "kernelspec": {
   "display_name": "Python 3",
   "language": "python",
   "name": "python3"
  },
  "language_info": {
   "codemirror_mode": {
    "name": "ipython",
    "version": 2
   },
   "file_extension": ".py",
   "mimetype": "text/x-python",
   "name": "python",
   "nbconvert_exporter": "python",
   "pygments_lexer": "ipython2",
   "version": "2.7.6"
  }
 },
 "nbformat": 4,
 "nbformat_minor": 0
}